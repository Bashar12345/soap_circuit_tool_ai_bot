{
 "cells": [
  {
   "cell_type": "markdown",
   "id": "1fb692da",
   "metadata": {},
   "source": [
    "## prepare pdf"
   ]
  },
  {
   "cell_type": "code",
   "execution_count": null,
   "id": "edfbd2ca",
   "metadata": {
    "vscode": {
     "languageId": "plaintext"
    }
   },
   "outputs": [],
   "source": []
  }
 ],
 "metadata": {
  "language_info": {
   "name": "python"
  }
 },
 "nbformat": 4,
 "nbformat_minor": 5
}
